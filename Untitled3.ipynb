{
  "nbformat": 4,
  "nbformat_minor": 0,
  "metadata": {
    "colab": {
      "provenance": [],
      "authorship_tag": "ABX9TyPSOeH+bM+RNgBNxz8omAoD",
      "include_colab_link": true
    },
    "kernelspec": {
      "name": "python3",
      "display_name": "Python 3"
    },
    "language_info": {
      "name": "python"
    }
  },
  "cells": [
    {
      "cell_type": "markdown",
      "metadata": {
        "id": "view-in-github",
        "colab_type": "text"
      },
      "source": [
        "<a href=\"https://colab.research.google.com/github/codewithpaptaji/codewithpaptaji/blob/main/Untitled3.ipynb\" target=\"_parent\"><img src=\"https://colab.research.google.com/assets/colab-badge.svg\" alt=\"Open In Colab\"/></a>"
      ]
    },
    {
      "cell_type": "code",
      "execution_count": null,
      "metadata": {
        "colab": {
          "base_uri": "https://localhost:8080/"
        },
        "id": "L1783aKzi9EU",
        "outputId": "af7a960e-0e7b-47cf-aefa-108e173836de"
      },
      "outputs": [
        {
          "output_type": "stream",
          "name": "stdout",
          "text": [
            "array('i', [1, 5, 13])\n"
          ]
        }
      ],
      "source": [
        "import array\n",
        "a=array.array('i',[1,5,13])\n",
        "print(a)"
      ]
    },
    {
      "cell_type": "code",
      "source": [
        "a[0]"
      ],
      "metadata": {
        "colab": {
          "base_uri": "https://localhost:8080/"
        },
        "id": "mjkVqOsum2EL",
        "outputId": "ada40b0e-773f-4838-f564-65dd0f71f06f"
      },
      "execution_count": null,
      "outputs": [
        {
          "output_type": "execute_result",
          "data": {
            "text/plain": [
              "1"
            ]
          },
          "metadata": {},
          "execution_count": 2
        }
      ]
    },
    {
      "cell_type": "code",
      "source": [
        "for e in a:\n",
        "  print(e)"
      ],
      "metadata": {
        "colab": {
          "base_uri": "https://localhost:8080/"
        },
        "id": "gg8znSObm_vJ",
        "outputId": "2ce0fd22-35a9-4f09-935c-d1a21ddc6dd3"
      },
      "execution_count": null,
      "outputs": [
        {
          "output_type": "stream",
          "name": "stdout",
          "text": [
            "1\n",
            "5\n",
            "13\n"
          ]
        }
      ]
    },
    {
      "cell_type": "markdown",
      "source": [
        "Array support only one dimensional Arrays.\n",
        "\n",
        "Array can contain only homogeneous data.\n",
        "\n",
        "we have to specefic type as well."
      ],
      "metadata": {
        "id": "Da6VNEAFnTXA"
      }
    },
    {
      "cell_type": "code",
      "source": [],
      "metadata": {
        "id": "8w6SwbetoQ28"
      },
      "execution_count": null,
      "outputs": []
    },
    {
      "cell_type": "markdown",
      "source": [
        "# DATA TYPES\n",
        "# 'b' signed char    ---> int         1\n",
        "# 'B' unsigned char    --> int         1\n",
        "# ú'    Py_UNICODE --->   unicode character   2\n",
        "## 'h'  signed short --->  int       2\n",
        "# 'H' unsigned short ---->  int  2\n",
        "# í' signed int   ----> int      2\n",
        "# 'I' unsigned int --->  int 2\n",
        "## 'l'  signed long  ---> 4\n",
        "'L'  unsigned long ---> 4\n",
        "\n",
        "# Minimum size in bytes"
      ],
      "metadata": {
        "id": "4ixj61o1o1iV"
      }
    },
    {
      "cell_type": "code",
      "source": [
        "a\n"
      ],
      "metadata": {
        "colab": {
          "base_uri": "https://localhost:8080/"
        },
        "id": "QHy9_FgZpsVr",
        "outputId": "99f71dbc-00d0-4f44-92c2-e0933bfc1cb8"
      },
      "execution_count": null,
      "outputs": [
        {
          "output_type": "execute_result",
          "data": {
            "text/plain": [
              "array('i', [1, 5, 13])"
            ]
          },
          "metadata": {},
          "execution_count": 4
        }
      ]
    },
    {
      "cell_type": "code",
      "source": [
        "a[-1]"
      ],
      "metadata": {
        "colab": {
          "base_uri": "https://localhost:8080/"
        },
        "id": "bt1qTR7zp-lc",
        "outputId": "568f9c16-99c8-4f1d-af36-e53837a73ecc"
      },
      "execution_count": null,
      "outputs": [
        {
          "output_type": "execute_result",
          "data": {
            "text/plain": [
              "13"
            ]
          },
          "metadata": {},
          "execution_count": 5
        }
      ]
    },
    {
      "cell_type": "code",
      "source": [
        "a[-2]"
      ],
      "metadata": {
        "colab": {
          "base_uri": "https://localhost:8080/"
        },
        "id": "UEnDOwxQqEOh",
        "outputId": "b67e9b6b-9f85-498c-9093-85dd893b852c"
      },
      "execution_count": null,
      "outputs": [
        {
          "output_type": "execute_result",
          "data": {
            "text/plain": [
              "5"
            ]
          },
          "metadata": {},
          "execution_count": 6
        }
      ]
    },
    {
      "cell_type": "code",
      "source": [
        "a[-3]"
      ],
      "metadata": {
        "colab": {
          "base_uri": "https://localhost:8080/"
        },
        "id": "zfSeiNYzqHXb",
        "outputId": "5df0f6d5-c9da-409a-db3f-46d4988d43f4"
      },
      "execution_count": null,
      "outputs": [
        {
          "output_type": "execute_result",
          "data": {
            "text/plain": [
              "1"
            ]
          },
          "metadata": {},
          "execution_count": 7
        }
      ]
    },
    {
      "cell_type": "code",
      "source": [
        "print(*a)"
      ],
      "metadata": {
        "colab": {
          "base_uri": "https://localhost:8080/"
        },
        "id": "S7iYHkg4qKjk",
        "outputId": "91129a4e-fe4e-42ef-e5a0-326ec829fe91"
      },
      "execution_count": null,
      "outputs": [
        {
          "output_type": "stream",
          "name": "stdout",
          "text": [
            "1 5 13\n"
          ]
        }
      ]
    },
    {
      "cell_type": "code",
      "source": [
        "a.insert(1, 10)\n",
        "print(a)"
      ],
      "metadata": {
        "colab": {
          "base_uri": "https://localhost:8080/"
        },
        "id": "ZZrV1rkHqVMe",
        "outputId": "2d901dee-6584-4c9f-8c57-5c31634e38a4"
      },
      "execution_count": null,
      "outputs": [
        {
          "output_type": "stream",
          "name": "stdout",
          "text": [
            "array('i', [1, 10, 10, 5, 13])\n"
          ]
        }
      ]
    },
    {
      "cell_type": "code",
      "source": [
        "a.append(30)\n",
        "print(a)"
      ],
      "metadata": {
        "colab": {
          "base_uri": "https://localhost:8080/"
        },
        "id": "PVVXo_Hdqw1q",
        "outputId": "fa2d66c2-4180-4d79-a497-4fb9241227ed"
      },
      "execution_count": null,
      "outputs": [
        {
          "output_type": "stream",
          "name": "stdout",
          "text": [
            "array('i', [1, 10, 10, 5, 13, 30, 30])\n"
          ]
        }
      ]
    },
    {
      "cell_type": "markdown",
      "source": [
        "# **if we can delete something we can use [del], [pop]  like this**"
      ],
      "metadata": {
        "id": "k6UDNqgYrJ_w"
      }
    },
    {
      "cell_type": "code",
      "source": [],
      "metadata": {
        "id": "ruyA3cLVsMQA"
      },
      "execution_count": null,
      "outputs": []
    },
    {
      "cell_type": "code",
      "source": [
        "del a[2]"
      ],
      "metadata": {
        "id": "ktxMRo84rJ2g"
      },
      "execution_count": null,
      "outputs": []
    },
    {
      "cell_type": "code",
      "source": [
        "a.pop(3)\n",
        "print(a)"
      ],
      "metadata": {
        "colab": {
          "base_uri": "https://localhost:8080/"
        },
        "id": "ZRYk7xwWrfTR",
        "outputId": "53558859-8f69-45b6-f875-e202a3db8e42"
      },
      "execution_count": null,
      "outputs": [
        {
          "output_type": "stream",
          "name": "stdout",
          "text": [
            "array('i', [1, 10, 5])\n"
          ]
        }
      ]
    },
    {
      "cell_type": "markdown",
      "source": [
        "# remove , u can provide a element values **bold text** **bold text**"
      ],
      "metadata": {
        "id": "7f6MLIFlsCoo"
      }
    },
    {
      "cell_type": "code",
      "source": [
        "if 13 in a:\n",
        "  a.remove(13)\n",
        "print(a)\n",
        "\n"
      ],
      "metadata": {
        "colab": {
          "base_uri": "https://localhost:8080/"
        },
        "id": "jyzvqsVPsLnj",
        "outputId": "9a9a15da-90ad-432d-ac72-60477437412e"
      },
      "execution_count": null,
      "outputs": [
        {
          "output_type": "stream",
          "name": "stdout",
          "text": [
            "array('i', [1, 10, 5])\n"
          ]
        }
      ]
    },
    {
      "cell_type": "code",
      "source": [
        "print(10 in a)"
      ],
      "metadata": {
        "colab": {
          "base_uri": "https://localhost:8080/"
        },
        "id": "YFoR3QRms_PH",
        "outputId": "958ced4c-7602-4efb-946c-becd920fb6e4"
      },
      "execution_count": null,
      "outputs": [
        {
          "output_type": "stream",
          "name": "stdout",
          "text": [
            "True\n"
          ]
        }
      ]
    },
    {
      "cell_type": "markdown",
      "source": [],
      "metadata": {
        "id": "yF-gt4oas-2A"
      }
    },
    {
      "cell_type": "code",
      "source": [
        "a.insert(0,20)\n",
        "print(a)"
      ],
      "metadata": {
        "colab": {
          "base_uri": "https://localhost:8080/"
        },
        "id": "wMQU5ojDtEIn",
        "outputId": "c4ef09d2-bc84-4bb1-c172-fab0ef1cbc31"
      },
      "execution_count": null,
      "outputs": [
        {
          "output_type": "stream",
          "name": "stdout",
          "text": [
            "array('i', [20, 1, 10, 5])\n"
          ]
        }
      ]
    },
    {
      "cell_type": "code",
      "source": [
        "a.insert(0,40)\n",
        "print(a)"
      ],
      "metadata": {
        "colab": {
          "base_uri": "https://localhost:8080/"
        },
        "id": "2tQ7e7letkrG",
        "outputId": "4606903d-af27-4c7b-d8f2-f611ce935c91"
      },
      "execution_count": null,
      "outputs": [
        {
          "output_type": "stream",
          "name": "stdout",
          "text": [
            "array('i', [40, 20, 1, 10, 5])\n"
          ]
        }
      ]
    },
    {
      "cell_type": "code",
      "source": [
        "a.append(50)\n",
        "print(a)"
      ],
      "metadata": {
        "colab": {
          "base_uri": "https://localhost:8080/"
        },
        "id": "MzKlzMCKtplH",
        "outputId": "2830cc57-9b60-4ed0-db48-a143703cca4b"
      },
      "execution_count": null,
      "outputs": [
        {
          "output_type": "stream",
          "name": "stdout",
          "text": [
            "array('i', [40, 20, 1, 10, 5, 50, 50])\n"
          ]
        }
      ]
    },
    {
      "cell_type": "code",
      "source": [
        "if 50 in a:\n",
        "  a.remove(50)\n",
        "print(a)"
      ],
      "metadata": {
        "colab": {
          "base_uri": "https://localhost:8080/"
        },
        "id": "3r9y-8PktxPX",
        "outputId": "5aca9f84-7dda-4eef-b572-87c1f0c14c2b"
      },
      "execution_count": null,
      "outputs": [
        {
          "output_type": "stream",
          "name": "stdout",
          "text": [
            "array('i', [40, 20, 1, 10, 5, 50])\n"
          ]
        }
      ]
    },
    {
      "cell_type": "code",
      "source": [
        "a.append(70)\n",
        "print(a)"
      ],
      "metadata": {
        "colab": {
          "base_uri": "https://localhost:8080/"
        },
        "id": "3wI-Z9nct4Sg",
        "outputId": "6adf0fe2-3f6c-4a7b-baba-f7186eb2376a"
      },
      "execution_count": null,
      "outputs": [
        {
          "output_type": "stream",
          "name": "stdout",
          "text": [
            "array('i', [40, 20, 1, 10, 5, 50, 70])\n"
          ]
        }
      ]
    },
    {
      "cell_type": "code",
      "source": [
        "a.append(80)"
      ],
      "metadata": {
        "id": "wAULAHtkuE3_"
      },
      "execution_count": null,
      "outputs": []
    },
    {
      "cell_type": "code",
      "source": [
        "a.append(90)"
      ],
      "metadata": {
        "id": "VDcJ725kuH_M"
      },
      "execution_count": null,
      "outputs": []
    },
    {
      "cell_type": "code",
      "source": [
        "a.append(100)\n",
        "print(a)"
      ],
      "metadata": {
        "colab": {
          "base_uri": "https://localhost:8080/"
        },
        "id": "pCKFoX0cuKBY",
        "outputId": "9d52a85a-a42a-44b9-fc4b-de8305ba9115"
      },
      "execution_count": null,
      "outputs": [
        {
          "output_type": "stream",
          "name": "stdout",
          "text": [
            "array('i', [40, 20, 1, 10, 5, 50, 70, 80, 90, 100])\n"
          ]
        }
      ]
    },
    {
      "cell_type": "markdown",
      "source": [
        "# *We Using Slicing Operator *"
      ],
      "metadata": {
        "id": "EQxIUuPhuXe2"
      }
    },
    {
      "cell_type": "code",
      "source": [
        "a[::]"
      ],
      "metadata": {
        "colab": {
          "base_uri": "https://localhost:8080/"
        },
        "id": "djmTZv1Mucuk",
        "outputId": "49580114-c60e-4007-eddc-f8aecb5fdeb5"
      },
      "execution_count": null,
      "outputs": [
        {
          "output_type": "execute_result",
          "data": {
            "text/plain": [
              "array('i', [40, 20, 1, 10, 5, 50, 70, 80, 90, 100])"
            ]
          },
          "metadata": {},
          "execution_count": 31
        }
      ]
    },
    {
      "cell_type": "code",
      "source": [
        "a[1:7]"
      ],
      "metadata": {
        "colab": {
          "base_uri": "https://localhost:8080/"
        },
        "id": "Ajk1mzb9ugxl",
        "outputId": "ecdb36ff-66b0-4d80-c038-79e047ea5b5e"
      },
      "execution_count": null,
      "outputs": [
        {
          "output_type": "execute_result",
          "data": {
            "text/plain": [
              "array('i', [20, 1, 10, 5, 50, 70])"
            ]
          },
          "metadata": {},
          "execution_count": 32
        }
      ]
    },
    {
      "cell_type": "markdown",
      "source": [
        "## a[Start: End: Step]\n",
        "# step is by default 1\n",
        "# by default beg & end are extreme ends(all inculsive)"
      ],
      "metadata": {
        "id": "muGaLYosvNNO"
      }
    },
    {
      "cell_type": "code",
      "source": [
        "a[0:8:1]"
      ],
      "metadata": {
        "colab": {
          "base_uri": "https://localhost:8080/"
        },
        "id": "n8zhidI_uqOf",
        "outputId": "d7bb0bc0-771a-4c55-a058-6c00ad462c6b"
      },
      "execution_count": null,
      "outputs": [
        {
          "output_type": "execute_result",
          "data": {
            "text/plain": [
              "array('i', [40, 20, 1, 10, 5, 50, 70, 80])"
            ]
          },
          "metadata": {},
          "execution_count": 33
        }
      ]
    },
    {
      "cell_type": "markdown",
      "source": [
        "# Postive Value going to (left to right)\n",
        "# Negative Value going to (right to left)"
      ],
      "metadata": {
        "id": "T5Ljsrz0wD7C"
      }
    },
    {
      "cell_type": "code",
      "source": [
        "a[::-1]"
      ],
      "metadata": {
        "colab": {
          "base_uri": "https://localhost:8080/"
        },
        "id": "ArL5G77Gv3Nb",
        "outputId": "d24004f2-4396-4d86-bb4f-a220cb0dfea4"
      },
      "execution_count": null,
      "outputs": [
        {
          "output_type": "execute_result",
          "data": {
            "text/plain": [
              "array('i', [100, 90, 80, 70, 50, 5, 10, 1, 20, 40])"
            ]
          },
          "metadata": {},
          "execution_count": 35
        }
      ]
    },
    {
      "cell_type": "markdown",
      "source": [
        "# Search Something"
      ],
      "metadata": {
        "id": "I7rjBV1mwbPc"
      }
    },
    {
      "cell_type": "code",
      "source": [
        "if 50 in a:\n",
        "  print(f\" index 50 is: {a.index(50)}\")\n",
        "print(a)"
      ],
      "metadata": {
        "colab": {
          "base_uri": "https://localhost:8080/"
        },
        "id": "ovwAG4ZlwbHV",
        "outputId": "744a2384-3eca-49ac-f694-0c2e47668591"
      },
      "execution_count": null,
      "outputs": [
        {
          "output_type": "stream",
          "name": "stdout",
          "text": [
            " index 50 is: 5\n",
            "array('i', [40, 20, 1, 10, 5, 50, 70, 80, 90, 100])\n"
          ]
        }
      ]
    },
    {
      "cell_type": "code",
      "source": [
        "a.index(70)\n",
        "print(a)"
      ],
      "metadata": {
        "colab": {
          "base_uri": "https://localhost:8080/"
        },
        "id": "6REA1PYuxu-g",
        "outputId": "44ecdf30-e0c0-443d-c70f-b4c6fe2b194c"
      },
      "execution_count": null,
      "outputs": [
        {
          "output_type": "stream",
          "name": "stdout",
          "text": [
            "array('i', [40, 20, 1, 10, 5, 50, 70, 80, 90, 100])\n"
          ]
        }
      ]
    },
    {
      "cell_type": "code",
      "source": [
        "70 in a"
      ],
      "metadata": {
        "colab": {
          "base_uri": "https://localhost:8080/"
        },
        "id": "cdCmkPZdx4dC",
        "outputId": "69bc87c8-5a2a-421c-b3ca-24107527338e"
      },
      "execution_count": null,
      "outputs": [
        {
          "output_type": "execute_result",
          "data": {
            "text/plain": [
              "True"
            ]
          },
          "metadata": {},
          "execution_count": 44
        }
      ]
    },
    {
      "cell_type": "code",
      "source": [
        "101 not in a"
      ],
      "metadata": {
        "colab": {
          "base_uri": "https://localhost:8080/"
        },
        "id": "OGEQdTY4yLJI",
        "outputId": "480b43a5-b0a0-4fa8-f50d-6705172e9f8d"
      },
      "execution_count": null,
      "outputs": [
        {
          "output_type": "execute_result",
          "data": {
            "text/plain": [
              "True"
            ]
          },
          "metadata": {},
          "execution_count": 45
        }
      ]
    },
    {
      "cell_type": "code",
      "source": [
        "a[0] = 1"
      ],
      "metadata": {
        "id": "wxtdhUigyPI5"
      },
      "execution_count": null,
      "outputs": []
    },
    {
      "cell_type": "code",
      "source": [
        "print(a)"
      ],
      "metadata": {
        "colab": {
          "base_uri": "https://localhost:8080/"
        },
        "id": "UTV4Z3waykuf",
        "outputId": "39ccfb6a-e548-43f0-c386-ab6d79228fee"
      },
      "execution_count": null,
      "outputs": [
        {
          "output_type": "stream",
          "name": "stdout",
          "text": [
            "array('i', [100, 90, 80, 70, 50, 5, 10, 1, 20, 1])\n"
          ]
        }
      ]
    },
    {
      "cell_type": "markdown",
      "source": [
        "# COUNT the value"
      ],
      "metadata": {
        "id": "HaANtn4byxSh"
      }
    },
    {
      "cell_type": "code",
      "source": [
        "a.count(70)\n",
        "print(a)"
      ],
      "metadata": {
        "colab": {
          "base_uri": "https://localhost:8080/"
        },
        "id": "BGUW-tWby0mQ",
        "outputId": "820d8509-a2d4-4710-eff0-513e602b3ca3"
      },
      "execution_count": null,
      "outputs": [
        {
          "output_type": "stream",
          "name": "stdout",
          "text": [
            "array('i', [1, 20, 1, 10, 5, 50, 70, 80, 90, 100])\n"
          ]
        }
      ]
    },
    {
      "cell_type": "code",
      "source": [
        "a.reverse()\n",
        "print(a)"
      ],
      "metadata": {
        "colab": {
          "base_uri": "https://localhost:8080/"
        },
        "id": "Z2IgqdINy7TQ",
        "outputId": "cbe953af-2854-4441-aa7a-a98d86ce424c"
      },
      "execution_count": null,
      "outputs": [
        {
          "output_type": "stream",
          "name": "stdout",
          "text": [
            "array('i', [100, 90, 80, 70, 50, 5, 10, 1, 20, 1])\n"
          ]
        }
      ]
    },
    {
      "cell_type": "code",
      "source": [],
      "metadata": {
        "id": "KYEOSBEBzFgR"
      },
      "execution_count": null,
      "outputs": []
    },
    {
      "cell_type": "markdown",
      "source": [
        "# IF somebudy add more value in a single list , then use extend()"
      ],
      "metadata": {
        "id": "BVfqRp-szVgI"
      }
    },
    {
      "cell_type": "code",
      "source": [
        "a.extend([10,20,30,40,50])\n",
        "print(*a)"
      ],
      "metadata": {
        "colab": {
          "base_uri": "https://localhost:8080/"
        },
        "id": "MnqmdvH8zjZB",
        "outputId": "e1fc3428-3ea6-4a7d-9ab8-c9a411be33f1"
      },
      "execution_count": null,
      "outputs": [
        {
          "output_type": "stream",
          "name": "stdout",
          "text": [
            "100 90 80 70 50 5 10 1 20 1 10 20 30 40 50 10 20 30 40 50\n"
          ]
        }
      ]
    },
    {
      "cell_type": "code",
      "source": [],
      "metadata": {
        "id": "wYEv4-khz3m_"
      },
      "execution_count": null,
      "outputs": []
    }
  ]
}