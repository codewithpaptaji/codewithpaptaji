{
  "nbformat": 4,
  "nbformat_minor": 0,
  "metadata": {
    "colab": {
      "provenance": [],
      "authorship_tag": "ABX9TyPSOeH+bM+RNgBNxz8omAoD",
      "include_colab_link": true
    },
    "kernelspec": {
      "name": "python3",
      "display_name": "Python 3"
    },
    "language_info": {
      "name": "python"
    }
  },
  "cells": [
    {
      "cell_type": "markdown",
      "metadata": {
        "id": "view-in-github",
        "colab_type": "text"
      },
      "source": [
        "<a href=\"https://colab.research.google.com/github/codewithpaptaji/codewithpaptaji/blob/main/numpyDay1.ipynb\" target=\"_parent\"><img src=\"https://colab.research.google.com/assets/colab-badge.svg\" alt=\"Open In Colab\"/></a>"
      ]
    },
    {
      "cell_type": "code",
      "execution_count": 1,
      "metadata": {
        "colab": {
          "base_uri": "https://localhost:8080/"
        },
        "id": "L1783aKzi9EU",
        "outputId": "38502098-e5ae-4958-e3cb-0df38e57a622"
      },
      "outputs": [
        {
          "output_type": "stream",
          "name": "stdout",
          "text": [
            "array('i', [1, 5, 13])\n"
          ]
        }
      ],
      "source": [
        "import array\n",
        "a=array.array('i',[1,5,13])\n",
        "print(a)"
      ]
    },
    {
      "cell_type": "code",
      "source": [
        "a[0]"
      ],
      "metadata": {
        "colab": {
          "base_uri": "https://localhost:8080/"
        },
        "id": "mjkVqOsum2EL",
        "outputId": "0634a420-da84-4501-b9cf-20ef6f20ae03"
      },
      "execution_count": 2,
      "outputs": [
        {
          "output_type": "execute_result",
          "data": {
            "text/plain": [
              "1"
            ]
          },
          "metadata": {},
          "execution_count": 2
        }
      ]
    },
    {
      "cell_type": "code",
      "source": [
        "for e in a:\n",
        "  print(e)"
      ],
      "metadata": {
        "colab": {
          "base_uri": "https://localhost:8080/"
        },
        "id": "gg8znSObm_vJ",
        "outputId": "85e28189-0794-44dc-c5eb-ece5be83e951"
      },
      "execution_count": 3,
      "outputs": [
        {
          "output_type": "stream",
          "name": "stdout",
          "text": [
            "1\n",
            "5\n",
            "13\n"
          ]
        }
      ]
    },
    {
      "cell_type": "markdown",
      "source": [
        "Array support only one dimensional Arrays.\n",
        "\n",
        "Array can contain only homogeneous data.\n",
        "\n",
        "we have to specefic type as well."
      ],
      "metadata": {
        "id": "Da6VNEAFnTXA"
      }
    },
    {
      "cell_type": "code",
      "source": [],
      "metadata": {
        "id": "8w6SwbetoQ28"
      },
      "execution_count": 3,
      "outputs": []
    },
    {
      "cell_type": "markdown",
      "source": [
        "# DATA TYPES\n",
        "# 'b' signed char    ---> int         1\n",
        "# 'B' unsigned char    --> int         1\n",
        "# ú'    Py_UNICODE --->   unicode character   2\n",
        "## 'h'  signed short --->  int       2\n",
        "# 'H' unsigned short ---->  int  2\n",
        "# í' signed int   ----> int      2\n",
        "# 'I' unsigned int --->  int 2\n",
        "## 'l'  signed long  ---> 4\n",
        "'L'  unsigned long ---> 4\n",
        "\n",
        "# Minimum size in bytes"
      ],
      "metadata": {
        "id": "4ixj61o1o1iV"
      }
    },
    {
      "cell_type": "code",
      "source": [
        "a\n"
      ],
      "metadata": {
        "colab": {
          "base_uri": "https://localhost:8080/"
        },
        "id": "QHy9_FgZpsVr",
        "outputId": "63bfd425-5421-49e5-820d-374e5024157a"
      },
      "execution_count": 4,
      "outputs": [
        {
          "output_type": "execute_result",
          "data": {
            "text/plain": [
              "array('i', [1, 5, 13])"
            ]
          },
          "metadata": {},
          "execution_count": 4
        }
      ]
    },
    {
      "cell_type": "code",
      "source": [
        "a[-1]"
      ],
      "metadata": {
        "colab": {
          "base_uri": "https://localhost:8080/"
        },
        "id": "bt1qTR7zp-lc",
        "outputId": "4d913b88-77b1-465b-c7e4-08758bbadbd6"
      },
      "execution_count": 5,
      "outputs": [
        {
          "output_type": "execute_result",
          "data": {
            "text/plain": [
              "13"
            ]
          },
          "metadata": {},
          "execution_count": 5
        }
      ]
    },
    {
      "cell_type": "code",
      "source": [
        "a[-2]"
      ],
      "metadata": {
        "colab": {
          "base_uri": "https://localhost:8080/"
        },
        "id": "UEnDOwxQqEOh",
        "outputId": "c0591bb7-5f4c-40ba-d796-3c07dbd3d2b2"
      },
      "execution_count": 6,
      "outputs": [
        {
          "output_type": "execute_result",
          "data": {
            "text/plain": [
              "5"
            ]
          },
          "metadata": {},
          "execution_count": 6
        }
      ]
    },
    {
      "cell_type": "code",
      "source": [
        "a[-3]"
      ],
      "metadata": {
        "colab": {
          "base_uri": "https://localhost:8080/"
        },
        "id": "zfSeiNYzqHXb",
        "outputId": "fdb07c4d-5b05-4dfb-f220-c8a566c21334"
      },
      "execution_count": 7,
      "outputs": [
        {
          "output_type": "execute_result",
          "data": {
            "text/plain": [
              "1"
            ]
          },
          "metadata": {},
          "execution_count": 7
        }
      ]
    },
    {
      "cell_type": "code",
      "source": [
        "print(*a)"
      ],
      "metadata": {
        "colab": {
          "base_uri": "https://localhost:8080/"
        },
        "id": "S7iYHkg4qKjk",
        "outputId": "435fc95e-77d1-474e-98aa-e52e3583609e"
      },
      "execution_count": 8,
      "outputs": [
        {
          "output_type": "stream",
          "name": "stdout",
          "text": [
            "1 5 13\n"
          ]
        }
      ]
    },
    {
      "cell_type": "code",
      "source": [
        "a.insert(1, 10)\n",
        "print(a)"
      ],
      "metadata": {
        "colab": {
          "base_uri": "https://localhost:8080/"
        },
        "id": "ZZrV1rkHqVMe",
        "outputId": "b85518fe-b7a2-44fa-e16e-1ea928b48e9b"
      },
      "execution_count": 9,
      "outputs": [
        {
          "output_type": "stream",
          "name": "stdout",
          "text": [
            "array('i', [1, 10, 5, 13])\n"
          ]
        }
      ]
    },
    {
      "cell_type": "code",
      "source": [
        "a.append(30)\n",
        "print(a)"
      ],
      "metadata": {
        "colab": {
          "base_uri": "https://localhost:8080/"
        },
        "id": "PVVXo_Hdqw1q",
        "outputId": "edcfb846-d3a4-432a-d4f5-c0a4af60c555"
      },
      "execution_count": 10,
      "outputs": [
        {
          "output_type": "stream",
          "name": "stdout",
          "text": [
            "array('i', [1, 10, 5, 13, 30])\n"
          ]
        }
      ]
    },
    {
      "cell_type": "markdown",
      "source": [
        "# **if we can delete something we can use [del], [pop]  like this**"
      ],
      "metadata": {
        "id": "k6UDNqgYrJ_w"
      }
    },
    {
      "cell_type": "code",
      "source": [],
      "metadata": {
        "id": "ruyA3cLVsMQA"
      },
      "execution_count": 10,
      "outputs": []
    },
    {
      "cell_type": "code",
      "source": [
        "del a[2]"
      ],
      "metadata": {
        "id": "ktxMRo84rJ2g"
      },
      "execution_count": 11,
      "outputs": []
    },
    {
      "cell_type": "code",
      "source": [
        "a.pop(3)\n",
        "print(a)"
      ],
      "metadata": {
        "colab": {
          "base_uri": "https://localhost:8080/"
        },
        "id": "ZRYk7xwWrfTR",
        "outputId": "531bf2be-0c5f-435b-eb19-8380d21ad21c"
      },
      "execution_count": 12,
      "outputs": [
        {
          "output_type": "stream",
          "name": "stdout",
          "text": [
            "array('i', [1, 10, 13])\n"
          ]
        }
      ]
    },
    {
      "cell_type": "markdown",
      "source": [
        "# remove , u can provide a element values **bold text** **bold text**"
      ],
      "metadata": {
        "id": "7f6MLIFlsCoo"
      }
    },
    {
      "cell_type": "code",
      "source": [
        "if 13 in a:\n",
        "  a.remove(13)\n",
        "print(a)\n",
        "\n"
      ],
      "metadata": {
        "colab": {
          "base_uri": "https://localhost:8080/"
        },
        "id": "jyzvqsVPsLnj",
        "outputId": "760df808-80e3-4c5c-cd62-15f78afeb0c7"
      },
      "execution_count": 13,
      "outputs": [
        {
          "output_type": "stream",
          "name": "stdout",
          "text": [
            "array('i', [1, 10])\n"
          ]
        }
      ]
    },
    {
      "cell_type": "code",
      "source": [
        "print(10 in a)"
      ],
      "metadata": {
        "colab": {
          "base_uri": "https://localhost:8080/"
        },
        "id": "YFoR3QRms_PH",
        "outputId": "1aef6298-9582-4f6e-fd90-f5ad359e40bb"
      },
      "execution_count": 14,
      "outputs": [
        {
          "output_type": "stream",
          "name": "stdout",
          "text": [
            "True\n"
          ]
        }
      ]
    },
    {
      "cell_type": "markdown",
      "source": [],
      "metadata": {
        "id": "yF-gt4oas-2A"
      }
    },
    {
      "cell_type": "code",
      "source": [
        "a.insert(0,20)\n",
        "print(a)"
      ],
      "metadata": {
        "colab": {
          "base_uri": "https://localhost:8080/"
        },
        "id": "wMQU5ojDtEIn",
        "outputId": "f3fdbfbf-4aa4-4f78-c589-07933bb90d6c"
      },
      "execution_count": 15,
      "outputs": [
        {
          "output_type": "stream",
          "name": "stdout",
          "text": [
            "array('i', [20, 1, 10])\n"
          ]
        }
      ]
    },
    {
      "cell_type": "code",
      "source": [
        "a.insert(0,40)\n",
        "print(a)"
      ],
      "metadata": {
        "colab": {
          "base_uri": "https://localhost:8080/"
        },
        "id": "2tQ7e7letkrG",
        "outputId": "8b14281b-d700-4968-bf69-60f54c4f85dc"
      },
      "execution_count": 16,
      "outputs": [
        {
          "output_type": "stream",
          "name": "stdout",
          "text": [
            "array('i', [40, 20, 1, 10])\n"
          ]
        }
      ]
    },
    {
      "cell_type": "code",
      "source": [
        "a.append(50)\n",
        "print(a)"
      ],
      "metadata": {
        "colab": {
          "base_uri": "https://localhost:8080/"
        },
        "id": "MzKlzMCKtplH",
        "outputId": "38549a1f-b127-476a-e3e9-54462029b3cf"
      },
      "execution_count": 17,
      "outputs": [
        {
          "output_type": "stream",
          "name": "stdout",
          "text": [
            "array('i', [40, 20, 1, 10, 50])\n"
          ]
        }
      ]
    },
    {
      "cell_type": "code",
      "source": [
        "if 50 in a:\n",
        "  a.remove(50)\n",
        "print(a)"
      ],
      "metadata": {
        "colab": {
          "base_uri": "https://localhost:8080/"
        },
        "id": "3r9y-8PktxPX",
        "outputId": "8d048524-e15b-4ae5-cdca-2e453a389f96"
      },
      "execution_count": 18,
      "outputs": [
        {
          "output_type": "stream",
          "name": "stdout",
          "text": [
            "array('i', [40, 20, 1, 10])\n"
          ]
        }
      ]
    },
    {
      "cell_type": "code",
      "source": [
        "a.append(70)\n",
        "print(a)"
      ],
      "metadata": {
        "colab": {
          "base_uri": "https://localhost:8080/"
        },
        "id": "3wI-Z9nct4Sg",
        "outputId": "ad528438-19fa-4fea-dff6-d74ccbc262c0"
      },
      "execution_count": 19,
      "outputs": [
        {
          "output_type": "stream",
          "name": "stdout",
          "text": [
            "array('i', [40, 20, 1, 10, 70])\n"
          ]
        }
      ]
    },
    {
      "cell_type": "code",
      "source": [
        "a.append(80)"
      ],
      "metadata": {
        "id": "wAULAHtkuE3_"
      },
      "execution_count": 20,
      "outputs": []
    },
    {
      "cell_type": "code",
      "source": [
        "a.append(90)"
      ],
      "metadata": {
        "id": "VDcJ725kuH_M"
      },
      "execution_count": 21,
      "outputs": []
    },
    {
      "cell_type": "code",
      "source": [
        "a.append(100)\n",
        "print(a)"
      ],
      "metadata": {
        "colab": {
          "base_uri": "https://localhost:8080/"
        },
        "id": "pCKFoX0cuKBY",
        "outputId": "7d466d89-7544-4c44-8cd5-431e1f4d12f2"
      },
      "execution_count": 22,
      "outputs": [
        {
          "output_type": "stream",
          "name": "stdout",
          "text": [
            "array('i', [40, 20, 1, 10, 70, 80, 90, 100])\n"
          ]
        }
      ]
    },
    {
      "cell_type": "markdown",
      "source": [
        "# *We Using Slicing Operator *"
      ],
      "metadata": {
        "id": "EQxIUuPhuXe2"
      }
    },
    {
      "cell_type": "code",
      "source": [
        "a[::]"
      ],
      "metadata": {
        "colab": {
          "base_uri": "https://localhost:8080/"
        },
        "id": "djmTZv1Mucuk",
        "outputId": "698bc607-a999-4dc3-e215-69e90e208a51"
      },
      "execution_count": 23,
      "outputs": [
        {
          "output_type": "execute_result",
          "data": {
            "text/plain": [
              "array('i', [40, 20, 1, 10, 70, 80, 90, 100])"
            ]
          },
          "metadata": {},
          "execution_count": 23
        }
      ]
    },
    {
      "cell_type": "code",
      "source": [
        "a[1:7]"
      ],
      "metadata": {
        "colab": {
          "base_uri": "https://localhost:8080/"
        },
        "id": "Ajk1mzb9ugxl",
        "outputId": "285edd28-88fb-40cb-9c85-99e1ec3f3289"
      },
      "execution_count": 24,
      "outputs": [
        {
          "output_type": "execute_result",
          "data": {
            "text/plain": [
              "array('i', [20, 1, 10, 70, 80, 90])"
            ]
          },
          "metadata": {},
          "execution_count": 24
        }
      ]
    },
    {
      "cell_type": "markdown",
      "source": [
        "## a[Start: End: Step]\n",
        "# step is by default 1\n",
        "# by default beg & end are extreme ends(all inculsive)"
      ],
      "metadata": {
        "id": "muGaLYosvNNO"
      }
    },
    {
      "cell_type": "code",
      "source": [
        "a[0:8:1]"
      ],
      "metadata": {
        "colab": {
          "base_uri": "https://localhost:8080/"
        },
        "id": "n8zhidI_uqOf",
        "outputId": "13650eac-9bdc-4987-e75a-f9691774ffb8"
      },
      "execution_count": 25,
      "outputs": [
        {
          "output_type": "execute_result",
          "data": {
            "text/plain": [
              "array('i', [40, 20, 1, 10, 70, 80, 90, 100])"
            ]
          },
          "metadata": {},
          "execution_count": 25
        }
      ]
    },
    {
      "cell_type": "markdown",
      "source": [
        "# Postive Value going to (left to right)\n",
        "# Negative Value going to (right to left)"
      ],
      "metadata": {
        "id": "T5Ljsrz0wD7C"
      }
    },
    {
      "cell_type": "code",
      "source": [
        "a[::-1]"
      ],
      "metadata": {
        "colab": {
          "base_uri": "https://localhost:8080/"
        },
        "id": "ArL5G77Gv3Nb",
        "outputId": "ad70465a-2897-4fa7-aea1-c4e960def364"
      },
      "execution_count": 26,
      "outputs": [
        {
          "output_type": "execute_result",
          "data": {
            "text/plain": [
              "array('i', [100, 90, 80, 70, 10, 1, 20, 40])"
            ]
          },
          "metadata": {},
          "execution_count": 26
        }
      ]
    },
    {
      "cell_type": "markdown",
      "source": [
        "# Search Something"
      ],
      "metadata": {
        "id": "I7rjBV1mwbPc"
      }
    },
    {
      "cell_type": "code",
      "source": [
        "if 50 in a:\n",
        "  print(f\" index 50 is: {a.index(50)}\")\n",
        "print(a)"
      ],
      "metadata": {
        "colab": {
          "base_uri": "https://localhost:8080/"
        },
        "id": "ovwAG4ZlwbHV",
        "outputId": "6c7116ea-478a-47eb-9eb2-33fe51b458f6"
      },
      "execution_count": 27,
      "outputs": [
        {
          "output_type": "stream",
          "name": "stdout",
          "text": [
            "array('i', [40, 20, 1, 10, 70, 80, 90, 100])\n"
          ]
        }
      ]
    },
    {
      "cell_type": "code",
      "source": [
        "a.index(70)\n",
        "print(a)"
      ],
      "metadata": {
        "colab": {
          "base_uri": "https://localhost:8080/"
        },
        "id": "6REA1PYuxu-g",
        "outputId": "b95f9ee9-ff2f-4ca7-f49a-d74ba2ea83af"
      },
      "execution_count": 28,
      "outputs": [
        {
          "output_type": "stream",
          "name": "stdout",
          "text": [
            "array('i', [40, 20, 1, 10, 70, 80, 90, 100])\n"
          ]
        }
      ]
    },
    {
      "cell_type": "code",
      "source": [
        "70 in a"
      ],
      "metadata": {
        "colab": {
          "base_uri": "https://localhost:8080/"
        },
        "id": "cdCmkPZdx4dC",
        "outputId": "f9f3b8fd-c3b6-41a9-ea93-01df4d74103d"
      },
      "execution_count": 29,
      "outputs": [
        {
          "output_type": "execute_result",
          "data": {
            "text/plain": [
              "True"
            ]
          },
          "metadata": {},
          "execution_count": 29
        }
      ]
    },
    {
      "cell_type": "code",
      "source": [
        "101 not in a"
      ],
      "metadata": {
        "colab": {
          "base_uri": "https://localhost:8080/"
        },
        "id": "OGEQdTY4yLJI",
        "outputId": "83e8e827-cd53-41a5-fd02-2a85802c56a6"
      },
      "execution_count": 30,
      "outputs": [
        {
          "output_type": "execute_result",
          "data": {
            "text/plain": [
              "True"
            ]
          },
          "metadata": {},
          "execution_count": 30
        }
      ]
    },
    {
      "cell_type": "code",
      "source": [
        "a[0] = 1"
      ],
      "metadata": {
        "id": "wxtdhUigyPI5"
      },
      "execution_count": 31,
      "outputs": []
    },
    {
      "cell_type": "code",
      "source": [
        "print(a)"
      ],
      "metadata": {
        "colab": {
          "base_uri": "https://localhost:8080/"
        },
        "id": "UTV4Z3waykuf",
        "outputId": "93c33ce7-8a5e-426b-db6c-d4ff7628daf9"
      },
      "execution_count": 32,
      "outputs": [
        {
          "output_type": "stream",
          "name": "stdout",
          "text": [
            "array('i', [1, 20, 1, 10, 70, 80, 90, 100])\n"
          ]
        }
      ]
    },
    {
      "cell_type": "markdown",
      "source": [
        "# COUNT the value"
      ],
      "metadata": {
        "id": "HaANtn4byxSh"
      }
    },
    {
      "cell_type": "code",
      "source": [
        "a.count(70)\n",
        "print(a)"
      ],
      "metadata": {
        "colab": {
          "base_uri": "https://localhost:8080/"
        },
        "id": "BGUW-tWby0mQ",
        "outputId": "47d89cc1-3504-4d76-ab1b-9acc41ca30d4"
      },
      "execution_count": 33,
      "outputs": [
        {
          "output_type": "stream",
          "name": "stdout",
          "text": [
            "array('i', [1, 20, 1, 10, 70, 80, 90, 100])\n"
          ]
        }
      ]
    },
    {
      "cell_type": "code",
      "source": [
        "a.reverse()\n",
        "print(a)"
      ],
      "metadata": {
        "colab": {
          "base_uri": "https://localhost:8080/"
        },
        "id": "Z2IgqdINy7TQ",
        "outputId": "afc77c48-3fbe-433d-f544-4449da2b376b"
      },
      "execution_count": 34,
      "outputs": [
        {
          "output_type": "stream",
          "name": "stdout",
          "text": [
            "array('i', [100, 90, 80, 70, 10, 1, 20, 1])\n"
          ]
        }
      ]
    },
    {
      "cell_type": "code",
      "source": [],
      "metadata": {
        "id": "KYEOSBEBzFgR"
      },
      "execution_count": 34,
      "outputs": []
    },
    {
      "cell_type": "markdown",
      "source": [
        "# IF somebudy add more value in a single list , then use extend()"
      ],
      "metadata": {
        "id": "BVfqRp-szVgI"
      }
    },
    {
      "cell_type": "code",
      "source": [
        "a.extend([10,20,30,40,50])\n",
        "print(*a)"
      ],
      "metadata": {
        "colab": {
          "base_uri": "https://localhost:8080/"
        },
        "id": "MnqmdvH8zjZB",
        "outputId": "8d6ed05c-9f7a-4bc5-960e-1ed240438441"
      },
      "execution_count": 35,
      "outputs": [
        {
          "output_type": "stream",
          "name": "stdout",
          "text": [
            "100 90 80 70 10 1 20 1 10 20 30 40 50\n"
          ]
        }
      ]
    },
    {
      "cell_type": "code",
      "source": [],
      "metadata": {
        "id": "wYEv4-khz3m_"
      },
      "execution_count": 35,
      "outputs": []
    }
  ]
}